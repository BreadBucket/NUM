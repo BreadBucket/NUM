{
 "cells": [
  {
   "cell_type": "code",
   "execution_count": 1,
   "metadata": {},
   "outputs": [],
   "source": [
    "using Domaca02\n",
    "using Printf"
   ]
  },
  {
   "cell_type": "code",
   "execution_count": 6,
   "metadata": {},
   "outputs": [
    {
     "data": {
      "text/plain": [
       "0.15865525393145735"
      ]
     },
     "execution_count": 6,
     "metadata": {},
     "output_type": "execute_result"
    }
   ],
   "source": [
    "\"\"\"\n",
    "\tCalculate normal distribution up to `x`: Φ(x) = P(X ≤ x)\n",
    "\tIntegral is calculated using the adaptive simpsons method.\n",
    "\"\"\"\n",
    "function normal(x; tol=1e-10)\n",
    "\tif x == 0\n",
    "\t\treturn 0.5\n",
    "\tend\n",
    "\t\t\n",
    "\tm = 1/sqrt(2*pi)\n",
    "\tf(t) = exp(-t*t/2)\n",
    "\t\n",
    "\tif x > 0\n",
    "\t\treturn 0.5 + m*romberg(f, 0, x, tol=tol)\n",
    "\telse\n",
    "\t\treturn 0.5 - m*romberg(f, x, 0, tol=tol)\n",
    "\tend\n",
    "\t\t\n",
    "end\n",
    "\n",
    "normal(-1)"
   ]
  },
  {
   "cell_type": "markdown",
   "metadata": {},
   "source": [
    "$$\n",
    "\\frac{h}{3}\n",
    "(\n",
    "\tf(a) + 4 f(a+h) + 2 f(a+2h) + 4 f(a+3h) + 2 f(a+4h) + \\dots + f(a+nh)\n",
    ")\n",
    "$$\n",
    "\n",
    "\n",
    "1-dim\n",
    "$$\n",
    "\\sum^{\\frac{n}{2}-1}_{i} \\frac{h}{3} [f(x_{2i}) + 4 f(x_{2i+1}) + f(x_{2i+2})]\n",
    "$$\n",
    "\n",
    "\n",
    "$$\n",
    "\\sum^{\\frac{n}{2}-1}_{j}\n",
    "\\frac{m}{3} \\left(\n",
    "\t\\sum^{\\frac{n}{2}-1}_{i} \\frac{h}{3} [f(x_{2i},y_{2j}) + 4 f(x_{2i+1},y_{2j}) + f(x_{2i+2},y_{2j})] +\n",
    "\t\\sum^{\\frac{n}{2}-1}_{i} \\frac{h}{3} [f(x_{2i},y_{2j+1}) + 4 f(x_{2i+1},y_{2j+1}) + f(x_{2i+2},y_{2j+1})] +\n",
    "\t\\sum^{\\frac{n}{2}-1}_{i} \\frac{h}{3} [f(x_{2i},y_{2j+2}) + 4 f(x_{2i+1},y_{2j+2}) + f(x_{2i+2},y_{2j+2})]\n",
    "\\right)\n",
    "$$\n",
    "\n",
    "\n",
    "$$\n",
    "\\frac{mh}{9}\n",
    "\\sum^{\\frac{n}{2}-1}_{j}\n",
    "\\left(\n",
    "\t\\sum^{\\frac{n}{2}-1}_{i} [f(x_{2i},y_{2j})   + 4 f(x_{2i+1},y_{2j})   + f(x_{2i+2},y_{2j})] +\n",
    "\t\\sum^{\\frac{n}{2}-1}_{i} [f(x_{2i},y_{2j+1}) + 4 f(x_{2i+1},y_{2j+1}) + f(x_{2i+2},y_{2j+1})] +\n",
    "\t\\sum^{\\frac{n}{2}-1}_{i} [f(x_{2i},y_{2j+2}) + 4 f(x_{2i+1},y_{2j+2}) + f(x_{2i+2},y_{2j+2})]\n",
    "\\right)\n",
    "$$\n",
    "\n",
    "\n",
    "$$\n",
    "\\frac{mh}{9}\n",
    "\\sum^{\\frac{n}{2}-1}_{j}\n",
    "\\sum^{\\frac{n}{2}-1}_{i}\n",
    "\\left(\n",
    "\t f(x_{2i},y_{2j}) + f(x_{2i},y_{2j+1}) + f(x_{2i},y_{2j+2}) + 4 f(x_{2i+1},y_{2j}) + 4 f(x_{2i+1},y_{2j+1}) + 4 f(x_{2i+1},y_{2j+2}) + f(x_{2i+2},y_{2j}) + f(x_{2i+2},y_{2j+1}) + f(x_{2i+2},y_{2j+2})\n",
    "\\right)\n",
    "$$\n",
    "\n"
   ]
  },
  {
   "cell_type": "markdown",
   "metadata": {},
   "source": [
    "$$\n",
    "\\int_{0}^{1}\n",
    "\\int_{0}^{1}\n",
    "\\int_{0}^{1}\n",
    "\\int_{2}^{3}\n",
    "\\int_{0}^{1}\n",
    "\\int_{0}^{1}\n",
    "\tforce(x_1, y_2, z_1, x_2, y_2, z_2)\n",
    "\\\n",
    "dx_1 dy_1 dz_1 dx_2 dy_2 dz_2\n",
    "$$\n",
    "\n",
    "\n",
    "<!--  -->\n",
    "$$\n",
    "\\int_{0}^{1}\n",
    "\\int_{0}^{1}\n",
    "\\int_{0}^{1}\n",
    "\\int_{2}^{3}\n",
    "\\int_{0}^{1}\n",
    "\n",
    "\\frac{h}{3}\n",
    "\\sum^{\\frac{n}{2}-1}_{i=0} [f(x_{2i}, y_2, z_1, x_2, y_2, z_2) + 4 f(x_{2i+1}, y_2, z_1, x_2, y_2, z_2) + f(x_{2i+2}, y_2, z_1, x_2, y_2, z_2)]\n",
    "\n",
    "dy_1 dz_1 dx_2 dy_2 dz_2\n",
    "$$\n"
   ]
  },
  {
   "cell_type": "code",
   "execution_count": null,
   "metadata": {},
   "outputs": [
    {
     "data": {
      "text/plain": [
       "force (generic function with 3 methods)"
      ]
     },
     "execution_count": 17,
     "metadata": {},
     "output_type": "execute_result"
    }
   ],
   "source": [
    "# function force(x1, y1, z1, x2, y2, z2)\n",
    "# \tx = x2 - x1\n",
    "# \ty = y2 - y1\n",
    "# \tz = z2 - z1\n",
    "# \tl = x*x + y*y + z*z\n",
    "\t\n",
    "# \tif l == 0\n",
    "# \t\tthrow(\"Null vector: ($x1,$y1,$z1) -- ($x2,$y2,$z2)\")\n",
    "# \tend\n",
    "\t\n",
    "# \treturn (x/l, z/l, y/l)\n",
    "# end\n",
    "\n",
    "# function force(cubeA::Tuple{Tuple,Tuple}, cubeB::Tuple{Tuple,Tuple}, n::Int)\n",
    "# \tAx1, Ay1, Az1 = cubeA[1]\n",
    "# \tAx2, Ay2, Az2 = cubeA[2]\n",
    "# \tBx1, By1, Bz1 = cubeB[1]\n",
    "# \tBx2, By2, Bz2 = cubeB[2]\n",
    "\t\n",
    "# \treturn simpsonSegmented(\n",
    "# \t\tx1 -> simpsonSegmented(\n",
    "# \t\ty1 -> simpsonSegmented(\n",
    "# \t\tz1 -> simpsonSegmented(\n",
    "# \t\tx2 -> simpsonSegmented(\n",
    "# \t\ty2 -> simpsonSegmented(\n",
    "# \t\tz2 -> (\n",
    "# \t\t\tforce(x1, y1, z1, x2, y2, z2)\n",
    "# \t\t), Bz1, Bz2, n\n",
    "# \t\t), By1, By2, n\n",
    "# \t\t), Bx1, Bx2, n\n",
    "# \t\t), Az1, Az2, n\n",
    "# \t\t), Ay1, Ay2, n\n",
    "# \t\t), Ax1, Ax2, n\n",
    "# \t)\n",
    "# end"
   ]
  },
  {
   "cell_type": "code",
   "execution_count": null,
   "metadata": {},
   "outputs": [
    {
     "data": {
      "text/plain": [
       "(0.47707905057744043, -1.0078053313384047e-19, -2.019989114248549e-18)"
      ]
     },
     "execution_count": 18,
     "metadata": {},
     "output_type": "execute_result"
    }
   ],
   "source": [
    "# # Distance between faces of A and B is 1\n",
    "# A = ((0,0,0), (1,1,1))\n",
    "# B = ((2,0,0), (3,1,1))\n",
    "# force(A, B, 15)"
   ]
  }
 ],
 "metadata": {
  "kernelspec": {
   "display_name": "Julia localenv 1.9.2",
   "language": "julia",
   "name": "julia-localenv-1.9"
  },
  "language_info": {
   "file_extension": ".jl",
   "mimetype": "application/julia",
   "name": "julia",
   "version": "1.9.2"
  },
  "orig_nbformat": 4
 },
 "nbformat": 4,
 "nbformat_minor": 2
}
