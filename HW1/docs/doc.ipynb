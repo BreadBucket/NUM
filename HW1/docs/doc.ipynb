{
 "cells": [
  {
   "cell_type": "markdown",
   "metadata": {},
   "source": [
    "<h1 style=\"text-align: center;\">Domača naloga 1:<br/>Inverzna potenčna metoda za tridiagonalno matriko</h1>\n",
    "<p style=\"text-align: center;\">Maksimiljan Vojvoda<br/>Maj 2024</p>"
   ]
  },
  {
   "cell_type": "markdown",
   "metadata": {},
   "source": [
    "## Uvod\n",
    "\n",
    "V domači nalogi je bilo potrebno implementirati Hessenbergov razcep in inverzno potenčno metodo za izračunanje lastne vrednosti matrike.\n",
    "Za namene računanja je bilo potrebno implementirati še LU razcep in posebne podatkovne strukture, ki zmanjšajo pomnilniško porabo matrik: `Tridiagonalna`, `ZgornjaTridiagonalna` in `SpodnjaTridiagonalna`."
   ]
  },
  {
   "cell_type": "markdown",
   "metadata": {},
   "source": [
    "## Podatkovne strukture\n",
    "\n",
    "Zaradi narave problema so matrike pri računanju večinoma napolnjene z samimi 0, razen po treh diagonalah.\n",
    "Temu primerno implementiramo podatkovno strukturo, ki hrani le te tri diagonale, ostale ničle pa obstajajo le implicitno.\n",
    "Poleg tipa `Tridiagonalna` imamo še tipa `ZgornjaTridiagonalna` in `SpodnjaTridiagonalna`, ki hranita le 2 diagonali.\n",
    "\n",
    "Primer matrike tipa `Tridiagonalna` si lahko predstavljamo kot:\n",
    "$$\n",
    "\\begin{bmatrix}\n",
    "m_{1,1} & m_{1,2} &         &         &       \\\\\n",
    "m_{2,1} & m_{2,2} & m_{2,3} &         &       \\\\\n",
    "        & m_{3,2} & m_{3,3} & m_{3,4} &       \\\\\n",
    "        &         & m_{4,3} & m_{4,4} & \\dots \\\\\n",
    "        &         &         & \\dots   & \\dots \\\\\n",
    "\\end{bmatrix}\n",
    "$$\n",
    "\n",
    "Primer matrike tipa `ZgornjaTridiagonalna` si lahko predstavljamo kot:\n",
    "$$\n",
    "\\begin{bmatrix}\n",
    "m_{1,1} & m_{1,2} &         &         &       \\\\\n",
    "        & m_{2,2} & m_{2,3} &         &       \\\\\n",
    "        &         & m_{3,3} & m_{3,4} &       \\\\\n",
    "        &         &         & m_{4,4} & \\dots \\\\\n",
    "        &         &         &         & \\dots \\\\\n",
    "\\end{bmatrix}\n",
    "$$\n",
    "\n",
    "<br/>\n",
    "<br/>\n",
    "<br/>\n",
    "\n",
    "Primer matrike tipa `SpodnjaTridiagonalna` si lahko predstavljamo kot:\n",
    "$$\n",
    "\\begin{bmatrix}\n",
    "m_{1,1} &         &         &         &        \\\\\n",
    "m_{2,1} & m_{2,2} &         &         &        \\\\\n",
    "        & m_{3,2} & m_{3,3} &         &        \\\\\n",
    "        &         & m_{4,3} & m_{4,4} &        \\\\\n",
    "        &         &         & \\dots   & \\dots  \\\\\n",
    "\\end{bmatrix}\n",
    "$$"
   ]
  },
  {
   "cell_type": "code",
   "execution_count": null,
   "metadata": {},
   "outputs": [],
   "source": [
    "using Domaca01: Tridiagonalna, ZgornjaTridiagonalna, SpodnjaTridiagonalna\n",
    "using Printf\n",
    "\n",
    "\"\"\"\n",
    "\tIzpiši matriko. Uporabno za nove podatkovne strukture.\n",
    "\"\"\"\n",
    "function p(A)\n",
    "\tfor i=1:size(A, 1)\n",
    "\t\tfor j=1:size(A, 2)\n",
    "\t\t\t\n",
    "\t\t\tif (A[i,j] != 0)\n",
    "\t\t\t\t@printf \"%7.3f \" A[i,j]\n",
    "\t\t\telse\n",
    "\t\t\t\t@printf \"        \"\n",
    "\t\t\t\t# @printf \"    0   \"\n",
    "\t\t\tend\n",
    "\t\tend\n",
    "\t\tprintln()\n",
    "\tend\n",
    "end"
   ]
  },
  {
   "cell_type": "markdown",
   "metadata": {},
   "source": [
    "## Tridiagonalizacija\n",
    "\n",
    "S pomočjo [Housholderjeve transformacije](https://en.wikipedia.org/wiki/Householder_transformation) lahko tridiagonaliziramo matriko $A$ velikosti $n \\times n$.<br/>\n",
    "Postopek je dokaj preprost kjer postopoma popravljamo matriko A preko interacij $k = 1,2,\\dots,n-2$:\n",
    "\n",
    "$$ \\alpha = -sgn(a^{(k)}_{k+1,k}) \\sqrt{\\sum_{n}^{j=k+1}(a^{(k)}_{j,k})^2} $$\n",
    "$$ r = \\sqrt{\\frac{1}{2} \\ \\alpha \\ (\\alpha - a^{(k)}_{k+1,k})} $$\n",
    "$$ v^{(k)}_1 = v^{(k)}_2 = \\dots = v^{(k)}_k = 0 $$\n",
    "$$ v^{(k)}_{k+1} = \\frac{a^{(k)}_{k+1,k} - \\alpha}{2r} $$\n",
    "$$ v^{(k)}_j = \\frac{a^{(k)}_{j,k}}{2r} \\quad \\forall j \\in [k+1,n] $$\n",
    "$$ Q^{(k)} = I - 2 v^{(k)} (v^{(k)})^T $$\n",
    "$$ A^{(k+1)} = Q^{(k)} A^{(k)} Q^{(k)} $$\n",
    "\n",
    "<br/>\n",
    "\n",
    "Pri tem moramo biti pozorni, da so indeksi iteracije zapisani nad posameznimi simboli, npr $A^{(k+1)}$.\n",
    "Dodatko, funkcija $sgn$ vrne predznak vrednosti, kjer ima $0$ tudi predznak $1$.\n",
    "\n",
    "Ena od optimizacij, ki jo lahko naredimo v programu je pri računanju vrednosti $Q^{(k)} = I - 2 v^{(k)} (v^{(k)})^T$, saj se tako lahko izognemo računanju korena, če vnaprej izračunamo $r^2$, do česar pride pri računanju matrike $v^{(k)} (v^{(k)})^T$."
   ]
  },
  {
   "cell_type": "code",
   "execution_count": 2,
   "metadata": {},
   "outputs": [
    {
     "name": "stdout",
     "output_type": "stream",
     "text": [
      "  4.000  -3.000                 \n",
      " -3.000   3.333  -1.667         \n",
      "         -1.667  -1.320   0.907 \n",
      "                  0.907   1.987 \n"
     ]
    }
   ],
   "source": [
    "using Domaca01: tridiag\n",
    "\n",
    "A = [4 1 -2 2 ; 1 2 0 1 ; -2 0 3 -2 ; 2 1 -2 -1.0]\n",
    "H, Q = tridiag(A)\n",
    "p(H)"
   ]
  },
  {
   "cell_type": "markdown",
   "metadata": {},
   "source": [
    "## LU razcep\n",
    "\n",
    "Za potrebe inverzne potenčne metode potrebujemo tudi LU razcep tridiagonalne matrike.\n",
    "Zaradi strukture tridiagonalne matrike, je ta izračun bistveno bolj preprost kot sicer, saj moramo skrbeti zgolj za 3 diagonale.\n",
    "Poleg tega lahko rezultate vpišemo neposredno kar v matriki $L$ in $U$ brez skrbi za nadaljno gausovo redukcijo."
   ]
  },
  {
   "cell_type": "code",
   "execution_count": 3,
   "metadata": {},
   "outputs": [
    {
     "name": "stdout",
     "output_type": "stream",
     "text": [
      "A:\n",
      "  2.000   3.000         \n",
      " -6.000 -11.000  13.000 \n",
      "          2.000  -8.000 \n",
      "L:\n",
      "  1.000                 \n",
      " -3.000   1.000         \n",
      "         -1.000   1.000 \n",
      "U:\n",
      "  2.000   3.000         \n",
      "         -2.000  13.000 \n",
      "                  5.000 \n"
     ]
    }
   ],
   "source": [
    "using Domaca01: lu\n",
    "\n",
    "A = Tridiagonalna([-6, 2.0], [2, -11, -8.0], [3, 13.0])\n",
    "L, U = lu(A)\n",
    "\n",
    "println(\"A:\")\n",
    "p(A)\n",
    "println(\"L:\")\n",
    "p(L)\n",
    "println(\"U:\")\n",
    "p(U)"
   ]
  },
  {
   "cell_type": "markdown",
   "metadata": {},
   "source": [
    "## Inverzna potenčna metoda\n",
    "\n",
    "Z inverzno potenčno metodo lahko iz približka lastne vrednosti izračunamo dejansko lastno vrednost $\\lambda$ matrike.\n",
    "Poleg lastne vrednosti zraven izračunamo še lastni vektor in sicer za približek uporabimo kar vektor naključnih vrednost, say bo skupaj z lastno vrednostjo konvergiral v dejanski lastni vektor in vrednost.\n",
    "\n",
    "V splošnem se to naredi z iteracijo:\n",
    "$$ x^{(n+1)} = \\frac{(A - \\lambda I)^{-1} x^{(n)}}{|| (A - \\lambda I)^{-1} x^{(n)} ||} $$\n",
    "\n",
    "<br/>\n",
    "\n",
    "V našem primeru lahko iteracijo specializiramo tako, da izračunamo Hessenbergovo matriko oz. tridiagonaliziramo matriko $A$.\n",
    "Nato izračunamo LU razcep nad matriko $H - \\lambda I$.\n",
    "Pridobljeni LU razcep nato uporabimo v iteraciji $L(U x^{(n+1)}) = x^{(n)}$.\n",
    "\n",
    "Iteriranje zaključimo, ko se $|| H x - λx ||$ spusti pod poljubno toleranco napake."
   ]
  },
  {
   "cell_type": "code",
   "execution_count": 4,
   "metadata": {},
   "outputs": [
    {
     "name": "stdout",
     "output_type": "stream",
     "text": [
      "λ = 1.0843644637890046\n",
      "v:\n",
      "  1.000 \n",
      " -0.847 \n",
      "  0.810 \n",
      " -0.224 \n"
     ]
    }
   ],
   "source": [
    "using Domaca01: inv_lastni\n",
    "\n",
    "A = [4.0 1 -2 2 ; 1 2 0 1 ; -2 0 3 -2 ; 2 1 -2 -1]\n",
    "λ, v = inv_lastni(A, 0) # Najdi najmanjšo lastno vrednost\n",
    "\n",
    "println(\"λ = \", λ)\n",
    "println(\"v:\")\n",
    "p(v)"
   ]
  },
  {
   "cell_type": "markdown",
   "metadata": {},
   "source": [
    "## Lastne vrednosti laplacetove matrike\n",
    "\n",
    "Laplacetova matrika je matrika, ki ima na glavni diagonali vrednosti $-2$, na spodnji in zgornji diagonali pa vrednost $1$."
   ]
  },
  {
   "cell_type": "code",
   "execution_count": 5,
   "metadata": {},
   "outputs": [
    {
     "name": "stdout",
     "output_type": "stream",
     "text": [
      " -2.000   1.000                 \n",
      "  1.000  -2.000   1.000         \n",
      "          1.000  -2.000   1.000 \n",
      "                  1.000  -2.000 \n"
     ]
    }
   ],
   "source": [
    "function laplace(n::Int)\n",
    "\treturn Tridiagonalna(fill(1, n-1), fill(-2, n), fill(1, n-1))\n",
    "end\n",
    "\n",
    "function mtrx(A)\n",
    "\tB = zeros(size(A))\n",
    "\tfor i=firstindex(A,1):lastindex(A,1)\n",
    "\tfor j=firstindex(A,2):lastindex(A,2)\n",
    "\t\tB[i,j] = A[i,j]\n",
    "\tend\n",
    "\tend\n",
    "\treturn B\n",
    "end\n",
    "\n",
    "p(laplace(4))"
   ]
  },
  {
   "cell_type": "code",
   "execution_count": 6,
   "metadata": {},
   "outputs": [
    {
     "name": "stdout",
     "output_type": "stream",
     "text": [
      "-3.918985947212332\n",
      "  0.285 \n",
      " -0.546 \n",
      "  0.764 \n",
      " -0.919 \n",
      "  1.000 \n",
      " -1.000 \n",
      "  0.919 \n",
      " -0.764 \n",
      "  0.546 \n",
      " -0.285 \n"
     ]
    }
   ],
   "source": [
    "lap = mtrx(laplace(10))\n",
    "l,v = inv_lastni(lap, -4)\n",
    "\n",
    "println(l)\n",
    "p(v)\n"
   ]
  }
 ],
 "metadata": {
  "kernelspec": {
   "display_name": "Julia localenv 1.9.2",
   "language": "julia",
   "name": "julia-localenv-1.9"
  },
  "language_info": {
   "file_extension": ".jl",
   "mimetype": "application/julia",
   "name": "julia",
   "version": "1.9.2"
  },
  "orig_nbformat": 4
 },
 "nbformat": 4,
 "nbformat_minor": 2
}
