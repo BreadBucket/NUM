{
 "cells": [
  {
   "cell_type": "code",
   "execution_count": 1,
   "metadata": {},
   "outputs": [
    {
     "name": "stderr",
     "output_type": "stream",
     "text": [
      "\u001b[36m\u001b[1m[ \u001b[22m\u001b[39m\u001b[36m\u001b[1mInfo: \u001b[22m\u001b[39mPrecompiling Domaca01 [38bd27a2-1b3b-4a11-9de0-622ea3ae0808]\n"
     ]
    }
   ],
   "source": [
    "using Domaca01: Tridiagonalna, ZgornjaTridiagonalna, SpodnjaTridiagonalna\n",
    "using Domaca01: tridiag, lu, inv_lastni"
   ]
  },
  {
   "cell_type": "code",
   "execution_count": 2,
   "metadata": {},
   "outputs": [
    {
     "data": {
      "text/plain": [
       "p (generic function with 1 method)"
      ]
     },
     "execution_count": 2,
     "metadata": {},
     "output_type": "execute_result"
    }
   ],
   "source": [
    "using Printf\n",
    "\n",
    "function p(T)\n",
    "\tif  (length(size(T)) == 1)\n",
    "\t\tprintln(T)\n",
    "\t\treturn\n",
    "\tend\n",
    "\t\n",
    "\tfor i=1:size(T)[1]\n",
    "\t\tfor j=1:size(T)[2]\n",
    "\t\t\t\n",
    "\t\t\tif (T[i,j] != 0)\n",
    "\t\t\t\t@printf \"%7.3f \" T[i,j]\n",
    "\t\t\telse\n",
    "\t\t\t\t@printf \"    0   \"\n",
    "\t\t\tend\n",
    "\t\tend\n",
    "\t\tprintln()\n",
    "\tend\n",
    "end"
   ]
  },
  {
   "cell_type": "code",
   "execution_count": 3,
   "metadata": {},
   "outputs": [
    {
     "name": "stdout",
     "output_type": "stream",
     "text": [
      "  4.000  -3.000     0       0   \n",
      " -3.000   3.333  -1.667     0   \n",
      "    0    -1.667  -1.320   0.907 \n",
      "    0       0     0.907   1.987 \n"
     ]
    }
   ],
   "source": [
    "A = [4.0 1 -2 2 ; 1 2 0 1 ; -2 0 3 -2 ; 2 1 -2 -1]\n",
    "H, Q = tridiag(A)\n",
    "p(H)"
   ]
  },
  {
   "cell_type": "code",
   "execution_count": 5,
   "metadata": {},
   "outputs": [
    {
     "name": "stdout",
     "output_type": "stream",
     "text": [
      "-2.1975169774804266\n",
      "1.084364463786128\n",
      "2.268531406408608\n",
      "6.844621107243764\n"
     ]
    },
    {
     "data": {
      "text/plain": [
       "Eigen{Float64, Float64, Matrix{Float64}, Vector{Float64}}\n",
       "values:\n",
       "4-element Vector{Float64}:\n",
       " -2.197516977439423\n",
       "  1.084364463773226\n",
       "  2.2685314064312427\n",
       "  6.844621107234968\n",
       "vectors:\n",
       "4×4 Matrix{Float64}:\n",
       " -0.176705   0.64226   0.201711   0.718046\n",
       " -0.1781    -0.544188  0.78945    0.221153\n",
       "  0.287668   0.520222  0.579634  -0.557351\n",
       "  0.924285  -0.143982  0.010281   0.353356"
      ]
     },
     "execution_count": 5,
     "metadata": {},
     "output_type": "execute_result"
    }
   ],
   "source": [
    "using LinearAlgebra\n",
    "\n",
    "λ0,v0 = inv_lastni(A, -10)\n",
    "λ1,v1 = inv_lastni(A, 0)\n",
    "λ2,v2 = inv_lastni(A, 3)\n",
    "λ3,v3 = inv_lastni(A, 10)\n",
    "\n",
    "println(λ0)\n",
    "println(λ1)\n",
    "println(λ2)\n",
    "println(λ3)\n",
    "\n",
    "eig = eigen(A)\n",
    "eig"
   ]
  }
 ],
 "metadata": {
  "kernelspec": {
   "display_name": "Julia localenv 1.9.2",
   "language": "julia",
   "name": "julia-localenv-1.9"
  },
  "language_info": {
   "file_extension": ".jl",
   "mimetype": "application/julia",
   "name": "julia",
   "version": "1.9.2"
  },
  "orig_nbformat": 4
 },
 "nbformat": 4,
 "nbformat_minor": 2
}
